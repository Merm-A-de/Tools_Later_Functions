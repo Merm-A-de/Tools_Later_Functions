{
  "nbformat": 4,
  "nbformat_minor": 0,
  "metadata": {
    "colab": {
      "name": "num_Int_To_Word_Function.ipynb",
      "provenance": [],
      "collapsed_sections": [],
      "authorship_tag": "ABX9TyPcEWS3r+DnqigVuWfRHW2w",
      "include_colab_link": true
    },
    "kernelspec": {
      "name": "python3",
      "display_name": "Python 3"
    },
    "language_info": {
      "name": "python"
    }
  },
  "cells": [
    {
      "cell_type": "markdown",
      "metadata": {
        "id": "view-in-github",
        "colab_type": "text"
      },
      "source": [
        "<a href=\"https://colab.research.google.com/github/Merm-A-de/Tools_Later_Functions/blob/main/num_Int_To_Word_Function.ipynb\" target=\"_parent\"><img src=\"https://colab.research.google.com/assets/colab-badge.svg\" alt=\"Open In Colab\"/></a>"
      ]
    },
    {
      "cell_type": "code",
      "metadata": {
        "colab": {
          "base_uri": "https://localhost:8080/"
        },
        "id": "dC0bneE9XMf3",
        "outputId": "f8028f11-a7bb-457e-b141-cd5c576ef0c1"
      },
      "source": [
        "# Python Function that takes number and returns word format and number format for +- x\n",
        "\n",
        "def num_Int_To_Word(num, neg, pos):\n",
        "  list = []\n",
        "  seco = []\n",
        "  answer = []\n",
        "  new = []\n",
        "  ranger = range(0,100)\n",
        "  # make version that can output negative and positive numbers \n",
        "\n",
        "  for i in ranger:\n",
        "    list.append(i)\n",
        "\n",
        "\n",
        "  zero = ['zero']\n",
        "  suffixes = ['one', 'two', 'three', 'four', 'five', 'six', 'seven', 'eight', 'nine']\n",
        "  teens = ['eleven', 'twelve', 'thirteen', 'fourteen', 'fifteen', 'sixteen', 'seventeen', 'eighteen', 'nineteen']\n",
        "  prefixes = ['twenty', 'thirty', 'fourty', 'fifty', 'sixty', 'seventy', 'eighty', 'ninety']\n",
        "  hyphenn = '-'\n",
        "  twenties = ['twenty']\n",
        "  thirties = ['thirty']\n",
        "  fourties = ['fourty']\n",
        "  fifties = ['fifty']\n",
        "  sixties = ['sixty']\n",
        "  seventies = ['seventy']\n",
        "  eighties = ['eighty']\n",
        "  nineties = ['ninety']\n",
        "\n",
        "  #for z in range(0,len(prefixes)):\n",
        "  for y in suffixes:\n",
        "    twenties.append(prefixes[0]+hyphenn+y)\n",
        "      \n",
        "  #for z in range(len(prefixes)):\n",
        "  for y in suffixes:\n",
        "    thirties.append(prefixes[1]+hyphenn+y)\n",
        "      \n",
        "  #for z in range(len(prefixes)): # how to use a variable for the index from the prefix list\n",
        "  for y in suffixes:\n",
        "    fourties.append(prefixes[2]+hyphenn+y)\n",
        "  \n",
        "#  for z in range(len(prefixes)):\n",
        "  for y in suffixes:\n",
        "    fifties.append(prefixes[3]+hyphenn+y)\n",
        "\n",
        " # for z in range(len(prefixes)):\n",
        "  for y in suffixes:\n",
        "    sixties.append(prefixes[4]+hyphenn+y)\n",
        "  \n",
        " # for z in range(len(prefixes)):\n",
        "  for y in suffixes:\n",
        "      seventies.append(prefixes[5]+hyphenn+y)\n",
        "    \n",
        " # for z in range(len(prefixes)):\n",
        "  for y in suffixes:\n",
        "    eighties.append(prefixes[6]+hyphenn+y)\n",
        "  \n",
        " # for z in range(len(prefixes)):\n",
        "  for y in suffixes:\n",
        "    nineties.append(prefixes[7]+hyphenn+y)\n",
        "      \n",
        "\n",
        "#  new.append(twenties, thirties, fourties, fifties, sixties, seventies, eighties, nineties)\n",
        "\n",
        "  nookych = zero + suffixes + teens + twenties + thirties + fourties + fifties + sixties + seventies + eighties + nineties \n",
        "\n",
        "  for r in nookych:\n",
        "    seco.append(r)\n",
        " \n",
        "  for i in ranger:\n",
        "    list.append(i)\n",
        "  #l = list[(dex-neg):((dex+2)+pos)]\n",
        "\n",
        "  dex = list.index(num)\n",
        "\n",
        "  if  dex - neg < 0:\n",
        "    answer.append(seco[0 : (dex+2)+pos])\n",
        "  else:\n",
        "    answer.append(seco[((dex-1)-neg):((dex)+pos)])\n",
        "\n",
        "\n",
        "  return answer\n",
        "\n",
        "\n",
        "num_Int_To_Word(44, 1, 2)\n",
        "\n"
      ],
      "execution_count": 3,
      "outputs": [
        {
          "output_type": "execute_result",
          "data": {
            "text/plain": [
              "[['fourty-three', 'fourty-four', 'fourty-five', 'fourty-six']]"
            ]
          },
          "metadata": {},
          "execution_count": 3
        }
      ]
    },
    {
      "cell_type": "code",
      "metadata": {
        "id": "nbCKZQUSXjuJ"
      },
      "source": [
        ""
      ],
      "execution_count": null,
      "outputs": []
    },
    {
      "cell_type": "code",
      "metadata": {
        "id": "j7LMV3CZXggt"
      },
      "source": [
        ""
      ],
      "execution_count": null,
      "outputs": []
    }
  ]
}