{
  "nbformat": 4,
  "nbformat_minor": 0,
  "metadata": {
    "colab": {
      "name": "currency_Exchange.ipynb",
      "provenance": [],
      "collapsed_sections": [],
      "authorship_tag": "ABX9TyMg+z5wGnn7m/L3ulNBDwpy",
      "include_colab_link": true
    },
    "kernelspec": {
      "name": "python3",
      "display_name": "Python 3"
    },
    "language_info": {
      "name": "python"
    }
  },
  "cells": [
    {
      "cell_type": "markdown",
      "metadata": {
        "id": "view-in-github",
        "colab_type": "text"
      },
      "source": [
        "<a href=\"https://colab.research.google.com/github/Merm-A-de/Tools_Later_Functions/blob/main/currency_Exchange.ipynb\" target=\"_parent\"><img src=\"https://colab.research.google.com/assets/colab-badge.svg\" alt=\"Open In Colab\"/></a>"
      ]
    },
    {
      "cell_type": "code",
      "metadata": {
        "colab": {
          "base_uri": "https://localhost:8080/",
          "height": 36
        },
        "id": "I09b_XuPQ5TU",
        "outputId": "8a3ed3ce-77c7-4dfe-a9f8-8986eac16334"
      },
      "source": [
        "# Intro to CS (Python)\n",
        "# HW3\n",
        "\n",
        "import introcs, random\n",
        "\n",
        "\"\"\"\n",
        "Module for currency exchange\n",
        "\n",
        "This module provides several string parsing functions to implement a \n",
        "simple currency exchange routine using an online currency service. \n",
        "The primary function in this module is exchange.\n",
        "\n",
        "Author: Angelo Mermigis\n",
        "Date:   10 04 21\n",
        "\n",
        "\"\"\"\n",
        "\n",
        "def exchange(old, new, amt):\n",
        "  \n",
        "  \"\"\"\n",
        "  Currency values should be in CAPS\n",
        "  \n",
        "  Create variable for the Link base used for all inputs\n",
        "\n",
        "  Create variables concatenating inputs with proper surrounding verbiage (= , &)\n",
        "\n",
        "  Concatenate the formatted suffixes to the Link Base for complete link\n",
        "\n",
        "  Create variable to read the jSON data received from the server (complete link)\n",
        "\n",
        "  Return the jSON data variable\n",
        "\n",
        "  \"\"\"\n",
        "  \n",
        "  link_Base = \"http://cs1110.cs.cornell.edu/2020fa/a1?\"\n",
        "  \n",
        "  connec_ = \"&\"\n",
        "  from_ = \"from=\" + old + connec_\n",
        "  to_ = \"to=\" + new + connec_\n",
        "  value_ = \"amt=\" + str(amt)\n",
        "\n",
        "  link = link_Base + from_ + to_ + value_\n",
        "\n",
        "  answer = introcs.urlread(link)\n",
        "\n",
        "#  print(link)\n",
        "  return answer\n",
        "  \n",
        "exchange(\"USD\", \"JPY\", 100)\n"
      ],
      "execution_count": null,
      "outputs": [
        {
          "output_type": "execute_result",
          "data": {
            "application/vnd.google.colaboratory.intrinsic+json": {
              "type": "string"
            },
            "text/plain": [
              "'{ \"src\":\"100 United States Dollars\", \"dst\":\"11031.620588 Japanese Yen\", \"valid\":true, \"err\":\"\" }'"
            ]
          },
          "metadata": {},
          "execution_count": 112
        }
      ]
    },
    {
      "cell_type": "code",
      "metadata": {
        "colab": {
          "base_uri": "https://localhost:8080/"
        },
        "id": "M77IEsb90xlb",
        "outputId": "37050135-538f-4d06-95d4-743856e1abe6"
      },
      "source": [
        "\n",
        "\"\"\"\n",
        "Test script for module a1\n",
        "\n",
        "When run as a script, this module invokes several procedures that \n",
        "test the various functions in the module a1.\n",
        "\n",
        "Author: Angelo Mermigis\n",
        "Date:   10 04 21\n",
        "\"\"\"\n",
        "\n",
        "\n",
        "def exchange_Test():\n",
        "\n",
        "\n",
        "  \"\"\"\n",
        "    Create tuple of seven currencies\n",
        "    Create another tuple of currencies randomly selected from the orighinal seven\n",
        "    Append the tuples together to get larger tuple with random ordered currencies \n",
        "\n",
        "    Create counter variable to index the randomized tuples\n",
        "\n",
        "    Counter variable set one value higher than length of non-random tuple portion\n",
        "    to avoid non-random tests\n",
        "\n",
        "    Set partial test vars calling function with inputs from randomized tuples\n",
        "\n",
        "    Increment the counter each time a partial test variable is created\n",
        "\n",
        "    Arbitrarily choose eight tests\n",
        "\n",
        "    The inital test of the function returns exchanges as returned by the server\n",
        "\n",
        "    Append the partial tests to a blank list\n",
        "\n",
        "    Create string variable only found in successful exchange tests\n",
        "\n",
        "    Index each partial test in the list for checker variable\n",
        "\n",
        "    Create tuple variable to include all indexes\n",
        "\n",
        "    Return the index tuple variable\n",
        "\n",
        "    The program crashes if any test doesn't include the checker variable\n",
        "\n",
        "    Eight indexes are output for successful tests\n",
        "\n",
        "  \"\"\"\n",
        "\n",
        "  currs = 'USD', \"JPY\", \"MXN\", \"CHF\", \"EUR\", \"BTC\", \"CHF\"\n",
        "\n",
        "  count = len(currs) + 1\n",
        "\n",
        "  currs_Two = (currs[random.randrange(len(currs))], 'USD', \n",
        "               currs[random.randrange(len(currs))], \"JPY\",\n",
        "               currs[random.randrange(len(currs))], \"MXN\",\n",
        "               currs[random.randrange(len(currs))], \"CHF\",\n",
        "               currs[random.randrange(len(currs))], \"BTC\")\n",
        "  \n",
        "  currs = currs + currs_Two\n",
        " \n",
        "  amounts = (1, 100, 1000, 45, 17, 130, 147, 51, 0.43,\n",
        "             random.randint(0,2), random.randint(5,92), \n",
        "                 random.randint(6, 53), random.randint(0,63), \n",
        "                 random.randint(3, 52), random.randint(0,5),\n",
        "                 random.randint(2,59), random.randint(5,25),\n",
        "                 random.randint(230,2939), random.randint(0, 22),\n",
        "                 random.randint(15,29), random.randint(3,6), \n",
        "                 random.randint(4,34))\n",
        "\n",
        "  # Testing Comments in Docstring\n",
        "  \n",
        "  ptest1 = exchange(currs[count],currs[count+1], amounts[count])\n",
        "  count+=1\n",
        "  ptest2 = exchange(currs[count],currs[count+1], amounts[count])\n",
        "  count+=1\n",
        "  ptest3 = exchange(currs[count],currs[count+1], amounts[count])\n",
        "  count+=1\n",
        "  ptest4 = exchange(currs[count],currs[count+1], amounts[count])\n",
        "  count+=1\n",
        "  ptest5 = exchange(currs[count],currs[count+1], amounts[count])\n",
        "  count+=1\n",
        "  ptest6 = exchange(currs[count],currs[count+1], amounts[count])\n",
        "  count+=1\n",
        "  ptest7 = exchange(currs[count],currs[count+1], amounts[count])\n",
        "  count+=1\n",
        "  ptest8 = exchange(currs[count],currs[count+1], amounts[count])\n",
        "  count+=1\n",
        "\n",
        "  list_Checks = []\n",
        "\n",
        "  checker = 'err'\n",
        "\n",
        "  answer = (ptest1.index(checker), ptest2.index(checker),\n",
        "            ptest3.index(checker), ptest4.index(checker), \n",
        "            ptest5.index(checker), ptest6.index(checker),\n",
        "            ptest7.index(checker), ptest8.index(checker))\n",
        "\n",
        "  return answer\n",
        "\n",
        "exchange_Test()"
      ],
      "execution_count": null,
      "outputs": [
        {
          "output_type": "execute_result",
          "data": {
            "text/plain": [
              "(89, 65, 81, 81, 74, 73, 80, 80)"
            ]
          },
          "metadata": {},
          "execution_count": 216
        }
      ]
    },
    {
      "cell_type": "code",
      "metadata": {
        "id": "rIlV3onClWWQ"
      },
      "source": [
        ""
      ],
      "execution_count": null,
      "outputs": []
    },
    {
      "cell_type": "code",
      "metadata": {
        "colab": {
          "base_uri": "https://localhost:8080/"
        },
        "id": "ufGL3EJi7b9i",
        "outputId": "3f90aebc-3780-4462-8cad-014f74e4fc17"
      },
      "source": [
        "\n",
        "\"\"\"\n",
        "User interface for module currency\n",
        "\n",
        "When run as a script, this module prompts the user for two currencies and \n",
        "an amount. It prints out the result of converting the first currency to \n",
        "the second.\n",
        "\n",
        "Author: YOUR NAME(S) HERE\n",
        "Date:   THE DATE COMPLETED HERE\n",
        "\"\"\"\n",
        "\n",
        "\n",
        "# code works barring condition of exchanging of same currency\n",
        "\n",
        "\n",
        "def interface_Exchange():\n",
        "\n",
        "  \"\"\"\n",
        "    Create user input variables for original, source currencies and amount\n",
        "\n",
        "    Create length of string version of amount variable \n",
        "\n",
        "    Create blankspace variable\n",
        "\n",
        "    Create function call variable with user input variables as inputs\n",
        "\n",
        "    Create variable reverse-indexing semicolon and double quote in the \n",
        "      function call variable \n",
        "\n",
        "    Add two to the index value to account for unwanted characters including\n",
        "      semicolon and double quote\n",
        "\n",
        "    Create second variable reverse indexing the function call variable\n",
        "      for a decimal point in the target currency \n",
        "    \n",
        "    Add four to the decimal index value to include decimal and three points\n",
        "    Create variable indexing the function call results for the amount entered\n",
        "\n",
        "    Create variable using the indexing variables in the call function variable\n",
        "\n",
        "    Create to_Display variable combining proper verbiage\n",
        "\n",
        "    Return the to_Display variable\n",
        "\n",
        "  \"\"\"\n",
        "\n",
        "  old = input(\"Enter source currency: \")\n",
        "  new = input(\"Enter target currency: \")\n",
        "  amount = input(\"Enter original amount: \")\n",
        "\n",
        "  amt_Length = len(str(amount))\n",
        "\n",
        "  bs = \" \"\n",
        "\n",
        "  func_Call_Base = exchange(old, new, amount)\n",
        "\n",
        "  valid = func_Call_Base.index('valid')\n",
        "\n",
        "  func_Call_Base_Two = (exchange(old, new, amount)[0 : valid])\n",
        "\n",
        "  y_Index = func_Call_Base_Two.rfind(':\"') + 2\n",
        "  y_Index_Two = func_Call_Base_Two.rfind('.') + 4 #include period and 2 decimals\n",
        " \n",
        "  y = func_Call_Base[y_Index : y_Index_Two]\n",
        "\n",
        "  to_Display = (\"You can exchange \" + str(amount) + bs + old + \n",
        "                \" for \" + str(y) + bs + new + \".\")\n",
        "\n",
        "  # Printing rather than return to avoid single quotes from output\n",
        "  # Researched format, replace, strip, and attempted to index around the quotes\n",
        "  # ~ 60 - 90 minutes\n",
        "  # StackOverflow Link ---> https://stackoverflow.com/questions/1482649/\n",
        "  # in-python-interpreter-return-without\n",
        "\n",
        "  # Greatly appreciate any guidance\n",
        "\n",
        "  print(to_Display)\n",
        "\n",
        "interface_Exchange()"
      ],
      "execution_count": null,
      "outputs": [
        {
          "output_type": "stream",
          "name": "stdout",
          "text": [
            "Enter source currency: CHF\n",
            "Enter target currency: BTC\n",
            "Enter original amount: 10000\n",
            "You can exchange 10000 CHF for 0.236 BTC.\n"
          ]
        }
      ]
    },
    {
      "cell_type": "code",
      "metadata": {
        "id": "9BsmKZoGxIsf"
      },
      "source": [
        ""
      ],
      "execution_count": null,
      "outputs": []
    },
    {
      "cell_type": "code",
      "metadata": {
        "colab": {
          "base_uri": "https://localhost:8080/"
        },
        "id": "ng5zBEDbIEE9",
        "outputId": "b62185ab-e476-4eea-d1f4-ab328cd1ceca"
      },
      "source": [
        "\"\"\"\n",
        "  NOT FOR THE ASSIGNMENT\n",
        "  USING CONDITIONAL TO AVOID NEGATIVE TEST:\n",
        "    SAME CURRENCY NOT RETURNING SECOND VALUE\n",
        "\n",
        "  Using Conditional to apply same value in output if testing same currency\n",
        "\n",
        "\n",
        "\"\"\"\n",
        "\n",
        "\n",
        "def interface_Exchange():\n",
        "\n",
        "  \"\"\"\n",
        "    Create user input variables for original, source currencies and amount\n",
        "\n",
        "    Create length of string version of amount variable \n",
        "\n",
        "    Create blankspace variable\n",
        "\n",
        "    Create function call variable with user input variables as inputs\n",
        "\n",
        "    Create variable reverse-indexing semicolon and double quote in the \n",
        "      function call variable \n",
        "\n",
        "    Add two to the index value to account for unwanted characters including\n",
        "      semicolon and double quote\n",
        "\n",
        "    Create second variable reverse indexing the function call variable\n",
        "      for a decimal point in the target currency \n",
        "    \n",
        "    Add four to the decimal index value to include decimal and three points\n",
        "    Create variable indexing the function call results for the amount entered\n",
        "\n",
        "    Create variable using the indexing variables in the call function variable\n",
        "\n",
        "    Create to_Display variable combining proper verbiage\n",
        "    Create to_Display variable in case of same currency being tested\n",
        "\n",
        "    Run conditional testing if source and target currencies are the same\n",
        "\n",
        "    Return the to_Display variable depending on outcome of conditional \n",
        "\n",
        "  \"\"\"\n",
        "\n",
        "  old = input(\"Enter source currency: \")\n",
        "  new = input(\"Enter target currency: \")\n",
        "  amount = input(\"Enter original amount: \")\n",
        "\n",
        "  amt_Length = len(str(amount))\n",
        "\n",
        "  bs = \" \"\n",
        "\n",
        "  func_Call_Base = exchange(old, new, amount)\n",
        "\n",
        "  valid = func_Call_Base.index('valid')\n",
        "\n",
        "  func_Call_Base_Two = (exchange(old, new, amount)[0 : valid])\n",
        "\n",
        "  y_Index = func_Call_Base_Two.rfind(':\"') + 2\n",
        "  y_Index_Two = func_Call_Base_Two.rfind('.') + 3 #include period and 2 decimals\n",
        "  \n",
        "\n",
        "  y = func_Call_Base[y_Index : y_Index_Two]\n",
        "\n",
        "  to_Display = (\"You can exchange \" + str(amount) + bs + old + \n",
        "                \" for \" + str(y) + bs + new + \".\")\n",
        "\n",
        "  same_To_Display = (\"You can exchange \" + str(amount) + bs + old +\n",
        "                    \" for \" + str(amount) + bs + new + \".\")\n",
        "\n",
        "  # Printing rather than return to avoid single quotes from output\n",
        "  # Researched format, replace, strip, and attempted to index around the quotes\n",
        "  # ~ 60 - 90 minutes\n",
        "  # StackOverflow Link ---> https://stackoverflow.com/questions/1482649/\n",
        "  #in-python-interpreter-return-without\n",
        "\n",
        "  # Greatly appreciate any guidance\n",
        "\n",
        "  if old == new:\n",
        "    print(same_To_Display.strip()) \n",
        "  else:\n",
        "    print(to_Display.strip())\n",
        "\n",
        "interface_Exchange()"
      ],
      "execution_count": null,
      "outputs": [
        {
          "output_type": "stream",
          "name": "stdout",
          "text": [
            "Enter source currency: USD\n",
            "Enter target currency: USD\n",
            "Enter original amount: 1\n",
            "You can exchange 1 USD for 1 USD.\n"
          ]
        }
      ]
    },
    {
      "cell_type": "code",
      "metadata": {
        "colab": {
          "base_uri": "https://localhost:8080/"
        },
        "id": "2c0_aSx5voNR",
        "outputId": "eec30261-64cf-4c4a-8321-f59591cd4262"
      },
      "source": [
        "pip install introcs"
      ],
      "execution_count": null,
      "outputs": [
        {
          "output_type": "stream",
          "name": "stdout",
          "text": [
            "Collecting introcs\n",
            "  Downloading introcs-1.3-py3-none-any.whl (78 kB)\n",
            "\u001b[?25l\r\u001b[K     |████▏                           | 10 kB 18.2 MB/s eta 0:00:01\r\u001b[K     |████████▍                       | 20 kB 12.4 MB/s eta 0:00:01\r\u001b[K     |████████████▋                   | 30 kB 6.8 MB/s eta 0:00:01\r\u001b[K     |████████████████▊               | 40 kB 8.0 MB/s eta 0:00:01\r\u001b[K     |█████████████████████           | 51 kB 5.3 MB/s eta 0:00:01\r\u001b[K     |█████████████████████████▏      | 61 kB 5.4 MB/s eta 0:00:01\r\u001b[K     |█████████████████████████████▍  | 71 kB 5.9 MB/s eta 0:00:01\r\u001b[K     |████████████████████████████████| 78 kB 2.1 MB/s \n",
            "\u001b[?25hRequirement already satisfied: numpy in /usr/local/lib/python3.7/dist-packages (from introcs) (1.19.5)\n",
            "Requirement already satisfied: pillow in /usr/local/lib/python3.7/dist-packages (from introcs) (7.1.2)\n",
            "Installing collected packages: introcs\n",
            "Successfully installed introcs-1.3\n"
          ]
        }
      ]
    }
  ]
}