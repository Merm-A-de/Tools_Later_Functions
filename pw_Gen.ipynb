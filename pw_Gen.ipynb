{
  "nbformat": 4,
  "nbformat_minor": 0,
  "metadata": {
    "colab": {
      "name": "pw_Gen.ipynb",
      "provenance": [],
      "collapsed_sections": [],
      "authorship_tag": "ABX9TyPBAWXe7jPITp9dE1bFgIJt",
      "include_colab_link": true
    },
    "kernelspec": {
      "name": "python3",
      "display_name": "Python 3"
    },
    "language_info": {
      "name": "python"
    }
  },
  "cells": [
    {
      "cell_type": "markdown",
      "metadata": {
        "id": "view-in-github",
        "colab_type": "text"
      },
      "source": [
        "<a href=\"https://colab.research.google.com/github/Merm-A-de/Tools_Later_Functions/blob/main/pw_Gen.ipynb\" target=\"_parent\"><img src=\"https://colab.research.google.com/assets/colab-badge.svg\" alt=\"Open In Colab\"/></a>"
      ]
    },
    {
      "cell_type": "code",
      "metadata": {
        "colab": {
          "base_uri": "https://localhost:8080/"
        },
        "id": "ENZwHYhWqzCB",
        "outputId": "ba385bd7-5283-4de5-a63b-88d902ff767e"
      },
      "source": [
        "import string\n",
        "import random\n",
        "\n",
        "def pw_Gen_User_Exp():\n",
        "\n",
        "  \"\"\"\n",
        "    Input: Integer --> Desired Length of Password\n",
        "\n",
        "    Output String\n",
        "\n",
        "    Create variable with special characters\n",
        "\n",
        "    Create variable with all digits\n",
        "\n",
        "    Create variable with all lowercase letters\n",
        "\n",
        "    Create variable with all capital letters\n",
        "     \n",
        "    Create variable with all characters\n",
        "  \n",
        "    Randomize order of characters in all characters variable in string format\n",
        "\n",
        "    Create variable with characters to_Strip from list\n",
        "\n",
        "    Run for loop removing all to_Strip characters from all characters list\n",
        "      and saving it prior randomized characters variable\n",
        "\n",
        "    Create variable indexing stripped randomized character variable from \n",
        "      beginning through specified integer input (desired length of Password)\n",
        "  \n",
        "  \"\"\"\n",
        "\n",
        "\n",
        "  spec_Chars = \"!\", \"@\", \"#\", \"$\", \"%\", \"^\", \"&\", \"*\", \"(\", \")\", \"{\", \"}\", \"[\"\n",
        "\n",
        "  num_Chars = string.digits\n",
        "\n",
        "  lower_Letters = string.ascii_lowercase\n",
        "\n",
        "  upper_Letters = string.ascii_uppercase \n",
        "\n",
        "  chars = (lower_Letters + upper_Letters\n",
        "           + str(spec_Chars) + num_Chars)\n",
        "\n",
        "  rd_ = str(random.sample(chars, len(chars)))\n",
        "\n",
        "  to_Strip = \",'\\\" []\"\n",
        "\n",
        "  for z in to_Strip:\n",
        "    rd_ = rd_.replace(z, \"\")\n",
        "\n",
        "\n",
        "  length = int(input(\"How many Characters (6+):    \"))\n",
        "  inc_Cap = input((\"Include Capital Letter? (Y / N):    \")).upper()\n",
        "  inc_Low = input((\"Include Lowercase Letter? (Y / N):    \")).upper()\n",
        "  inc_Spec = input((\"Include Special Character? (Y / N):    \")).upper()\n",
        "  inc_Num = input((\"Include Number? (Y / N): \")).upper()\n",
        "\n",
        "  add_On = \"\"\n",
        "\n",
        "  if inc_Cap == 'Y':\n",
        "    add_On = str(random.choice(upper_Letters)) \n",
        "  else:\n",
        "    pass\n",
        "  if inc_Low == 'Y':\n",
        "    add_On = str(random.choice(lower_Letters)) + add_On \n",
        "  else:\n",
        "    pass\n",
        "  if inc_Spec == 'Y':\n",
        "    add_On = str(random.choice(spec_Chars)) + add_On\n",
        "  else:\n",
        "    pass\n",
        "  if inc_Num == 'Y':  \n",
        "    add_On = str(random.choice(num_Chars)) + add_On \n",
        "    \n",
        "\n",
        "  if len(add_On) > 0:\n",
        "    pw = (str(rd_))[0:int(length - len(add_On))] + add_On\n",
        "  else:\n",
        "    pw = (str(rd_))[0:int(length)]\n",
        "\n",
        "  pw = str(random.sample(pw, len(pw)))\n",
        "    \n",
        "\n",
        "  for z in to_Strip:\n",
        "    pw = pw.replace(z,\"\")\n",
        "  #print(rd_)\n",
        "\n",
        "\n",
        "  print(\"\\n\")  \n",
        "  print(\"Password:\")\n",
        "  print(pw)\n",
        " \n",
        "pw_Gen_User_Exp()\n"
      ],
      "execution_count": 78,
      "outputs": [
        {
          "output_type": "stream",
          "name": "stdout",
          "text": [
            "How many Characters (6+):    8\n",
            "Include Capital Letter? (Y / N):    b\n",
            "Include Lowercase Letter? (Y / N):    n\n",
            "Include Special Character? (Y / N):    y\n",
            "Include Number? (Y / N): y\n",
            "\n",
            "\n",
            "Password:\n",
            "{32V#IUj 2\n",
            "2{\n"
          ]
        }
      ]
    },
    {
      "cell_type": "code",
      "metadata": {
        "colab": {
          "base_uri": "https://localhost:8080/"
        },
        "id": "lOr1LcPOS5vs",
        "outputId": "95d29170-803a-4e7a-bc82-6094666164e1"
      },
      "source": [
        "import string\n",
        "import random\n",
        "\n",
        "def pw_Gen_For_Sim(length):\n",
        "\n",
        "  \"\"\"\n",
        "    Input: Integer --> Desired Length of Password\n",
        "\n",
        "    Output String\n",
        "\n",
        "    Create variable with special characters\n",
        "\n",
        "    Create variable with all digits\n",
        "\n",
        "    Create variable with all lowercase letters\n",
        "\n",
        "    Create variable with all capital letters\n",
        "     \n",
        "    Create variable with all characters\n",
        "  \n",
        "    Randomize order of characters in all characters variable in string format\n",
        "\n",
        "    Create variable with characters to_Strip from list\n",
        "\n",
        "    Run for loop removing all to_Strip characters from all characters list\n",
        "      and saving it prior randomized characters variable\n",
        "\n",
        "    Create variable indexing stripped randomized character variable from \n",
        "      beginning through specified integer input (desired length of Password)\n",
        "  \n",
        "  \"\"\"\n",
        "\n",
        "\n",
        "  spec_Chars = \"!\", \"@\", \"#\", \"$\", \"%\", \"^\", \"&\", \"*\", \"(\", \")\", \"{\", \"}\", \"[\"\n",
        "\n",
        "  num_Chars = string.digits\n",
        "\n",
        "  lower_Letters = string.ascii_lowercase\n",
        "\n",
        "  upper_Letters = string.ascii_uppercase \n",
        "\n",
        "  chars = (lower_Letters + upper_Letters\n",
        "           + str(spec_Chars) + num_Chars)\n",
        "\n",
        "  rd_ = str(random.sample(chars, len(chars)))\n",
        "\n",
        "  to_Strip = \",'\\\" []\"\n",
        "\n",
        "  for z in to_Strip:\n",
        "    rd_ = rd_.replace(z, \"\")\n",
        "\n",
        "  inc_Cap = 'Y'\n",
        "  inc_Low = 'Y'\n",
        "  inc_Spec = 'Y'\n",
        "  inc_Num = 'Y'\n",
        "\n",
        "  if inc_Cap == 'Y':\n",
        "    add_On = str(random.choice(upper_Letters)) \n",
        "  else:\n",
        "    pass\n",
        "  if inc_Low == 'Y':\n",
        "    add_On = str(random.choice(lower_Letters)) + add_On \n",
        "  else:\n",
        "    pass\n",
        "  if inc_Spec == 'Y':\n",
        "    add_On = str(random.choice(spec_Chars)) + add_On\n",
        "  else:\n",
        "    pass\n",
        "  if inc_Num == 'Y':  \n",
        "    add_On = str(random.choice(num_Chars)) + add_On \n",
        "    \n",
        "\n",
        "  pw = (str(rd_))[0:int(length - len(add_On))] + add_On\n",
        "\n",
        "  pw = str(random.sample(pw, len(pw)))\n",
        "    \n",
        "\n",
        "  for z in to_Strip:\n",
        "    pw = pw.replace(z,\"\")\n",
        "  #print(rd_)\n",
        "\n",
        "  print(pw) \n",
        "\n",
        "\n",
        "pw_Gen_For_Sim(15)\n"
      ],
      "execution_count": 67,
      "outputs": [
        {
          "output_type": "stream",
          "name": "stdout",
          "text": [
            "6I(L)QpNzw}M2si\n"
          ]
        }
      ]
    },
    {
      "cell_type": "code",
      "metadata": {
        "id": "2JWIKDpwSuOd"
      },
      "source": [
        "import string\n",
        "import random\n",
        "\n",
        "def pw_Gen_No_Guar(x):\n",
        "\n",
        "  \"\"\"\n",
        "    Input: Integer --> Desired Length of Password\n",
        "\n",
        "    Output String\n",
        "\n",
        "    Create variable with special characters\n",
        "\n",
        "    Create variable with all digits\n",
        "\n",
        "    Create variable with all lowercase letters\n",
        "\n",
        "    Create variable with all capital letters\n",
        "     \n",
        "    Create variable with all characters\n",
        "  \n",
        "    Randomize order of characters in all characters variable in string format\n",
        "\n",
        "    Create variable with characters to_Strip from list\n",
        "\n",
        "    Run for loop removing all to_Strip characters from all characters list\n",
        "      and saving it prior randomized characters variable\n",
        "\n",
        "    Create variable indexing stripped randomized character variable from \n",
        "      beginning through specified integer input (desired length of Password)\n",
        "  \n",
        "  \"\"\"\n",
        "\n",
        "\n",
        "  spec_Chars = \"!\", \"@\", \"#\", \"$\", \"%\", \"^\", \"&\", \"*\", \"(\", \")\", \"{\", \"}\", \"[\"\n",
        "\n",
        "  num_Chars = string.digits\n",
        "\n",
        "  lower_Letters = string.ascii_lowercase\n",
        "\n",
        "  upper_Letters = string.ascii_uppercase \n",
        "\n",
        "  chars = (lower_Letters + upper_Letters\n",
        "           + str(spec_Chars) + num_Chars)\n",
        "\n",
        "  rd_ = str(random.sample(chars, len(chars)))\n",
        "\n",
        "  to_Strip = \",'\\\" [\"\n",
        "\n",
        "\n",
        "  for z in to_Strip:\n",
        "    rd_ = rd_.replace(z,\"\")\n",
        "#  print(rd_)\n",
        "\n",
        "  pw = rd_[0:int(x)]\n",
        "  \n",
        "  print(pw)\n",
        "\n",
        "#  for a in num_Chars:\n",
        "#    #print(a)\n",
        "#    if str(a) in pw:\n",
        "#      print(\"yee\")\n",
        "\n",
        "\n",
        "\n",
        "pw_Gen_No_Guar(10)\n"
      ],
      "execution_count": null,
      "outputs": []
    },
    {
      "cell_type": "code",
      "metadata": {
        "id": "u9M6EjZh3fxU"
      },
      "source": [
        ""
      ],
      "execution_count": null,
      "outputs": []
    },
    {
      "cell_type": "code",
      "metadata": {
        "id": "GXJSLxpU3Pt0"
      },
      "source": [
        ""
      ],
      "execution_count": null,
      "outputs": []
    },
    {
      "cell_type": "code",
      "metadata": {
        "id": "JLTqdjqA0Kxh"
      },
      "source": [
        ""
      ],
      "execution_count": null,
      "outputs": []
    },
    {
      "cell_type": "code",
      "metadata": {
        "id": "-lfOEU0GzlBi"
      },
      "source": [
        ""
      ],
      "execution_count": null,
      "outputs": []
    },
    {
      "cell_type": "code",
      "metadata": {
        "id": "BhJoLfYwyxIv"
      },
      "source": [
        ""
      ],
      "execution_count": null,
      "outputs": []
    },
    {
      "cell_type": "code",
      "metadata": {
        "id": "BFDSLw7Lr1w_"
      },
      "source": [
        ""
      ],
      "execution_count": null,
      "outputs": []
    },
    {
      "cell_type": "code",
      "metadata": {
        "id": "S6R7eGfUrYjA"
      },
      "source": [
        ""
      ],
      "execution_count": null,
      "outputs": []
    },
    {
      "cell_type": "code",
      "metadata": {
        "id": "046hhO8jH6eu",
        "colab": {
          "base_uri": "https://localhost:8080/",
          "height": 356
        },
        "outputId": "aa3c5fdf-959c-4e27-dadf-3f7f029ea4fa"
      },
      "source": [
        "# Import Tkinter library\n",
        "from tkinter import *\n",
        "\n",
        "# Create an instance of tkinter frame\n",
        "win = Tk()\n",
        "\n",
        "# Set the geometry of Tkinter frame\n",
        "win.geometry(\"700x250\")\n",
        "\n",
        "# Define Function to print the input value\n",
        "def display_input():\n",
        "   print(\"Input for Python:\", var1.get())\n",
        "   print(\"Input for C++:\", var2.get())\n",
        "\n",
        "# Define empty variables\n",
        "var1 = IntVar()\n",
        "var2 = IntVar()\n",
        "\n",
        "# Define a Checkbox\n",
        "t1 = Checkbutton(win, text=\"Python\", variable=var1, onvalue=1, offvalue=0, command=display_input)\n",
        "t1.pack()\n",
        "t2 = Checkbutton(win, text=\"C++\", variable=var2, onvalue=1, offvalue=0, command=display_input)\n",
        "t2.pack()\n",
        "\n",
        "win.mainloop()"
      ],
      "execution_count": null,
      "outputs": [
        {
          "output_type": "error",
          "ename": "TclError",
          "evalue": "ignored",
          "traceback": [
            "\u001b[0;31m---------------------------------------------------------------------------\u001b[0m",
            "\u001b[0;31mTclError\u001b[0m                                  Traceback (most recent call last)",
            "\u001b[0;32m<ipython-input-3-925e1160f7e9>\u001b[0m in \u001b[0;36m<module>\u001b[0;34m()\u001b[0m\n\u001b[1;32m      3\u001b[0m \u001b[0;34m\u001b[0m\u001b[0m\n\u001b[1;32m      4\u001b[0m \u001b[0;31m# Create an instance of tkinter frame\u001b[0m\u001b[0;34m\u001b[0m\u001b[0;34m\u001b[0m\u001b[0;34m\u001b[0m\u001b[0m\n\u001b[0;32m----> 5\u001b[0;31m \u001b[0mwin\u001b[0m \u001b[0;34m=\u001b[0m \u001b[0mTk\u001b[0m\u001b[0;34m(\u001b[0m\u001b[0;34m)\u001b[0m\u001b[0;34m\u001b[0m\u001b[0;34m\u001b[0m\u001b[0m\n\u001b[0m\u001b[1;32m      6\u001b[0m \u001b[0;34m\u001b[0m\u001b[0m\n\u001b[1;32m      7\u001b[0m \u001b[0;31m# Set the geometry of Tkinter frame\u001b[0m\u001b[0;34m\u001b[0m\u001b[0;34m\u001b[0m\u001b[0;34m\u001b[0m\u001b[0m\n",
            "\u001b[0;32m/usr/lib/python3.7/tkinter/__init__.py\u001b[0m in \u001b[0;36m__init__\u001b[0;34m(self, screenName, baseName, className, useTk, sync, use)\u001b[0m\n\u001b[1;32m   2021\u001b[0m                 \u001b[0mbaseName\u001b[0m \u001b[0;34m=\u001b[0m \u001b[0mbaseName\u001b[0m \u001b[0;34m+\u001b[0m \u001b[0mext\u001b[0m\u001b[0;34m\u001b[0m\u001b[0;34m\u001b[0m\u001b[0m\n\u001b[1;32m   2022\u001b[0m         \u001b[0minteractive\u001b[0m \u001b[0;34m=\u001b[0m \u001b[0;36m0\u001b[0m\u001b[0;34m\u001b[0m\u001b[0;34m\u001b[0m\u001b[0m\n\u001b[0;32m-> 2023\u001b[0;31m         \u001b[0mself\u001b[0m\u001b[0;34m.\u001b[0m\u001b[0mtk\u001b[0m \u001b[0;34m=\u001b[0m \u001b[0m_tkinter\u001b[0m\u001b[0;34m.\u001b[0m\u001b[0mcreate\u001b[0m\u001b[0;34m(\u001b[0m\u001b[0mscreenName\u001b[0m\u001b[0;34m,\u001b[0m \u001b[0mbaseName\u001b[0m\u001b[0;34m,\u001b[0m \u001b[0mclassName\u001b[0m\u001b[0;34m,\u001b[0m \u001b[0minteractive\u001b[0m\u001b[0;34m,\u001b[0m \u001b[0mwantobjects\u001b[0m\u001b[0;34m,\u001b[0m \u001b[0museTk\u001b[0m\u001b[0;34m,\u001b[0m \u001b[0msync\u001b[0m\u001b[0;34m,\u001b[0m \u001b[0muse\u001b[0m\u001b[0;34m)\u001b[0m\u001b[0;34m\u001b[0m\u001b[0;34m\u001b[0m\u001b[0m\n\u001b[0m\u001b[1;32m   2024\u001b[0m         \u001b[0;32mif\u001b[0m \u001b[0museTk\u001b[0m\u001b[0;34m:\u001b[0m\u001b[0;34m\u001b[0m\u001b[0;34m\u001b[0m\u001b[0m\n\u001b[1;32m   2025\u001b[0m             \u001b[0mself\u001b[0m\u001b[0;34m.\u001b[0m\u001b[0m_loadtk\u001b[0m\u001b[0;34m(\u001b[0m\u001b[0;34m)\u001b[0m\u001b[0;34m\u001b[0m\u001b[0;34m\u001b[0m\u001b[0m\n",
            "\u001b[0;31mTclError\u001b[0m: no display name and no $DISPLAY environment variable"
          ]
        }
      ]
    },
    {
      "cell_type": "code",
      "metadata": {
        "id": "mJAzxhr2IouI"
      },
      "source": [
        ""
      ],
      "execution_count": null,
      "outputs": []
    },
    {
      "cell_type": "code",
      "metadata": {
        "id": "ko_XgkSdkeCN",
        "colab": {
          "base_uri": "https://localhost:8080/"
        },
        "outputId": "d1112ccc-c250-4ffd-a933-2899f937eda9"
      },
      "source": [
        "def many_Pw_Gen(chars, iters):\n",
        "  \n",
        "  for i in range(iters):\n",
        "    pw_Gen_For_Sim(chars)\n",
        "\n",
        "many_Pw_Gen(16, 10)"
      ],
      "execution_count": 124,
      "outputs": [
        {
          "output_type": "stream",
          "name": "stdout",
          "text": [
            "7!(4#tL3jQH7FK{b\n",
            "4IF&Rgi^27TQSDtw\n",
            "zCsMm^u$k^SI2{)d\n",
            "xO)CQ4K{aIgRYD(!\n",
            "Y)D)2ue8!^d51dK\n",
            "&DNpjVJSl9A{!0B\n",
            "3q#12JyMV!)(jn*j\n",
            "mch(C0Zq2*s))YI}\n",
            "w1(1vZg2TLU$His\n",
            "w2q#56&(rg4pL*J\n"
          ]
        }
      ]
    },
    {
      "cell_type": "code",
      "metadata": {
        "colab": {
          "base_uri": "https://localhost:8080/"
        },
        "id": "bdSFQ0LPwTwr",
        "outputId": "4bb48256-e6e9-4f5e-d0bc-1a2652869ef4"
      },
      "source": [
        "def gen_Tester(y):\n",
        "  list = [ ]\n",
        "  for i in range(y):\n",
        "    list.append(pw_Gen_For_Sim(10))\n",
        "\n",
        "\n",
        "gen_Tester(100)\n",
        "\n"
      ],
      "execution_count": 121,
      "outputs": [
        {
          "output_type": "stream",
          "name": "stdout",
          "text": [
            "C0pPziTbH#\n",
            "s1(O8tLZ7(\n",
            "4MVUwLf)l{\n",
            "o3P(vM1T^$\n",
            "u&78If6C5z\n",
            "bYlQ*J3ihU\n",
            "mHg^Ni(9*4\n",
            "pR0D4u7s{4\n",
            "rI^3Em70FZ\n",
            "n7wJa(*Npz\n",
            "GVDW5az^05\n",
            "iW&J8wq8()\n",
            "2{3(R!#$nQ\n",
            "*S&v4A(SC%\n",
            "4)K*7L!(go\n",
            "n7&fCD%q5t\n",
            "7BLn&96u^@\n",
            "NAEl^4f(Uo\n",
            "z%9n$!TC04\n",
            "8t0X#@#Mgp\n",
            "2bd*eDg{8(\n",
            "4Pbaq*KBcD\n",
            "%PnZBf%91C\n",
            "uiqgKJ$Q0F\n",
            "#a)y(PI01$\n",
            "p^pEnGPIr9\n",
            ")8X9gNtdoN\n",
            "G%DZ2Z0w%M\n",
            "w0wvsXOZ}\n",
            "e5WzRB!sQg\n",
            "e15M!$xb@5\n",
            "oE^4rO$N#c\n",
            "4mEh{!#}Et\n",
            "R}phic5!sP\n",
            "0SN)I)H0(o\n",
            "1l0mB*tJL\n",
            "Nls9H(8d$r\n",
            "90K(Yj#C%)\n",
            "8n^L9Ty^gJ\n",
            "1{2l8{Aje(\n",
            "$yNMe(cJ9Z\n",
            "#5kgH{iML9\n",
            "z&M)KJAO1z\n",
            "^V)9nmfY5z\n",
            "(B)jemY63m\n",
            "tCXOZ8Dp(7\n",
            "Vhi99}$Meq\n",
            "^e0GEeB(Tw\n",
            "oH(V$}58e6\n",
            "f4u)h%H(5G\n",
            "3ideCl2V3)\n",
            "UM3&e5(Gg5\n",
            "l&rCGf@4*6\n",
            "z&1G4C2UD\n",
            "dWYNVJsS7%\n",
            "3IYoesNrA&\n",
            "$tZC)($*S5\n",
            "1!0dD#p*Fc\n",
            "X*9TosvSR3\n",
            "nnFyw5%gI9\n",
            "k18Nw$*kY(\n",
            "n8u$)TrZ}u\n",
            "3(gM8#9xl!\n",
            "GDOFv!6a}\n",
            "1mQW@{ldAR\n",
            "5vd)YS6ZI@\n",
            "W0V&6qXJ!F\n",
            "W{TFtPRR5)\n",
            "8s$JI{sTP$\n",
            "&H5f2IqA(e\n",
            "goP)yfi4^O\n",
            "x{IsDB}7L@\n",
            "!X2XDm6we7\n",
            "1igKZ^N1VP\n",
            "mg%I2Np4XN\n",
            "gQ{RXhBbC8\n",
            "&(Cs{I0P2w\n",
            "Xen*LF1tP@\n",
            "3DjT*a(B)%\n",
            "lMS9EH*8xA\n",
            "v9CpK}&d2m\n",
            "(KPdtb8rU$\n",
            "7$9mi(Q)NY\n",
            "H4%Eq&}pG6\n",
            "b$Sf)H0{ri\n",
            "3C$sPTR$F(\n",
            "3$Psb1}7J@\n",
            "N0I*$e7k5i\n",
            "n8m*QtMzQ2\n",
            "erh8%!s4F9\n",
            "aeJR1)de0T\n",
            "J7lz$Zb!Hv\n",
            "cGM^)z4^3y\n",
            "{qt4F5o$i2\n",
            "mfQzx%Fy96\n",
            ")o00guPL{S\n",
            "xJ{$65Ze6R\n",
            "q(#KU&&i5c\n",
            "EKH@g8q{(6\n",
            "l#ZM@*m7(z\n"
          ]
        }
      ]
    },
    {
      "cell_type": "code",
      "metadata": {
        "id": "tpf_oB1nYNha"
      },
      "source": [
        "# Note -->\n",
        "\n",
        "# add a space into a list to remove '[None]'s from output\n",
        "\n",
        "\n",
        "#Running Q's --->\n",
        "\n",
        "# How to rank password on strength"
      ],
      "execution_count": null,
      "outputs": []
    },
    {
      "cell_type": "code",
      "metadata": {
        "id": "6Hxd9QblV8nu"
      },
      "source": [
        ""
      ],
      "execution_count": null,
      "outputs": []
    },
    {
      "cell_type": "code",
      "metadata": {
        "id": "W4RU8SG9lXiL"
      },
      "source": [
        "dir(string)\n"
      ],
      "execution_count": null,
      "outputs": []
    },
    {
      "cell_type": "code",
      "metadata": {
        "id": "UutfnpOClO0_"
      },
      "source": [
        ""
      ],
      "execution_count": null,
      "outputs": []
    },
    {
      "cell_type": "code",
      "metadata": {
        "id": "vKxu_34eY7IV"
      },
      "source": [
        ""
      ],
      "execution_count": null,
      "outputs": []
    },
    {
      "cell_type": "code",
      "metadata": {
        "id": "N61Xyof2Y3qx"
      },
      "source": [
        ""
      ],
      "execution_count": null,
      "outputs": []
    },
    {
      "cell_type": "code",
      "metadata": {
        "id": "F9BSQz5MYxHs"
      },
      "source": [
        ""
      ],
      "execution_count": null,
      "outputs": []
    },
    {
      "cell_type": "code",
      "metadata": {
        "id": "G8YXVZ43YtIF"
      },
      "source": [
        ""
      ],
      "execution_count": null,
      "outputs": []
    }
  ]
}