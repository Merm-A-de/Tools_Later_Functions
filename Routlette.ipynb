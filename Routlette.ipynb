{
  "nbformat": 4,
  "nbformat_minor": 0,
  "metadata": {
    "colab": {
      "name": "Routlette.ipynb",
      "provenance": [],
      "authorship_tag": "ABX9TyPSwc2H6dD/6ztzbuFMmPcU",
      "include_colab_link": true
    },
    "kernelspec": {
      "name": "python3",
      "display_name": "Python 3"
    },
    "language_info": {
      "name": "python"
    }
  },
  "cells": [
    {
      "cell_type": "markdown",
      "metadata": {
        "id": "view-in-github",
        "colab_type": "text"
      },
      "source": [
        "<a href=\"https://colab.research.google.com/github/Merm-A-de/Tools_Later_Functions/blob/main/Routlette.ipynb\" target=\"_parent\"><img src=\"https://colab.research.google.com/assets/colab-badge.svg\" alt=\"Open In Colab\"/></a>"
      ]
    },
    {
      "cell_type": "code",
      "metadata": {
        "colab": {
          "base_uri": "https://localhost:8080/"
        },
        "id": "lcbFlLUyoVOI",
        "outputId": "ecc94a0d-8c1b-4cab-96c7-f309ec99e061"
      },
      "source": [
        "\n",
        "import random\n",
        "\n",
        "def roulette_American_Sim():\n",
        "  list = []\n",
        "  op = 37\n",
        "\n",
        "  options = [\"00\"]\n",
        "\n",
        "  for i in range(op):\n",
        "    options.append(int(i))\n",
        "#  print(options)\n",
        "\n",
        "  t = random.choice(options)\n",
        "\n",
        "  return t\n",
        "\n",
        "roulette_American_Sim()"
      ],
      "execution_count": null,
      "outputs": [
        {
          "output_type": "execute_result",
          "data": {
            "text/plain": [
              "2"
            ]
          },
          "metadata": {},
          "execution_count": 1
        }
      ]
    },
    {
      "cell_type": "code",
      "metadata": {
        "colab": {
          "base_uri": "https://localhost:8080/"
        },
        "id": "2o2ATr3Sp1cS",
        "outputId": "5c4fd949-64d5-425f-f419-602e17335316"
      },
      "source": [
        "import numpy as np\n",
        "\n",
        "def rouletteAM_thirds_Analysis(x):\n",
        "  list = []\n",
        "  listtoo = []\n",
        "  first_thirds = 0\n",
        "  second_thirds = 0\n",
        "  third_thirds = 0 \n",
        "  special = 0\n",
        "\n",
        "\n",
        "  for z in range(x):\n",
        "    list.append(roulette_American_Sim())\n",
        "  for l in list:\n",
        "    listtoo.append(l)\n",
        "   \n",
        "#   print(l)\n",
        "\n",
        "    if l in range(0,12) :\n",
        "      first_thirds += 1\n",
        "    if l in range(13,25):\n",
        "      second_thirds += 1\n",
        "    if l in range (25,37):\n",
        "      third_thirds += 1\n",
        "    if l == 0 or l == \"00\":\n",
        "      special += 1\n",
        "\n",
        "  return first_thirds, second_thirds, third_thirds, special, (special/ x) - (2/38)\n",
        " \n",
        "\n",
        " \n",
        "\n",
        "rouletteAM_thirds_Analysis(100)\n",
        "\n"
      ],
      "execution_count": null,
      "outputs": [
        {
          "output_type": "execute_result",
          "data": {
            "text/plain": [
              "(31, 31, 33, 8, 0.027368421052631584)"
            ]
          },
          "metadata": {},
          "execution_count": 5
        }
      ]
    },
    {
      "cell_type": "code",
      "metadata": {
        "id": "CC5IDDlp9Whu"
      },
      "source": [
        ""
      ],
      "execution_count": null,
      "outputs": []
    },
    {
      "cell_type": "code",
      "metadata": {
        "colab": {
          "base_uri": "https://localhost:8080/",
          "height": 130
        },
        "id": "21z01qt736Lr",
        "outputId": "d538ebff-732f-4658-9694-159374eb98c6"
      },
      "source": [
        "def spec_Analysis(x):\n",
        "  list = []\n",
        "  Over = 0\n",
        "  Under = 0\n",
        "\n",
        "  for i in range(x):\n",
        "    list.append()\n",
        "\n",
        "  for a,b,c,d,e in "
      ],
      "execution_count": null,
      "outputs": [
        {
          "output_type": "error",
          "ename": "SyntaxError",
          "evalue": "ignored",
          "traceback": [
            "\u001b[0;36m  File \u001b[0;32m\"<ipython-input-196-e7a4aeb2280a>\"\u001b[0;36m, line \u001b[0;32m9\u001b[0m\n\u001b[0;31m    for a,b,c,d,e in\u001b[0m\n\u001b[0m                     ^\u001b[0m\n\u001b[0;31mSyntaxError\u001b[0m\u001b[0;31m:\u001b[0m invalid syntax\n"
          ]
        }
      ]
    },
    {
      "cell_type": "code",
      "metadata": {
        "colab": {
          "base_uri": "https://localhost:8080/"
        },
        "id": "qQ48rsmZ8fJc",
        "outputId": "209d6b9e-f43c-4098-90e3-5ce7d956316f"
      },
      "source": [
        "import random\n",
        "\n",
        "\n",
        "\n",
        "def roulette_European_Sim():\n",
        "  list = []\n",
        "  op = 37\n",
        "\n",
        "  options = []\n",
        "\n",
        "  for i in range(op):\n",
        "    options.append(int(i))\n",
        "#  print(options)\n",
        "\n",
        "  t = random.choice(options)\n",
        "\n",
        "  return t\n",
        "\n",
        "roulette_European_Sim()"
      ],
      "execution_count": null,
      "outputs": [
        {
          "output_type": "execute_result",
          "data": {
            "text/plain": [
              "8"
            ]
          },
          "metadata": {},
          "execution_count": 201
        }
      ]
    },
    {
      "cell_type": "code",
      "metadata": {
        "colab": {
          "base_uri": "https://localhost:8080/"
        },
        "id": "KTu_3j1Z36oC",
        "outputId": "d5f7f3bc-270b-482f-f950-41b1509dbeaa"
      },
      "source": [
        "import numpy as np\n",
        "\n",
        "def rouletteEur_thirds_Analysis(x):\n",
        "  list = []\n",
        "  listtoo = []\n",
        "  first_thirds = 0\n",
        "  second_thirds = 0\n",
        "  third_thirds = 0 \n",
        "  special = 0\n",
        "\n",
        "\n",
        "  for z in range(x):\n",
        "    list.append(roulette_European_Sim())\n",
        "  for l in list:\n",
        "    listtoo.append(l)\n",
        "   \n",
        "#   print(l)\n",
        "\n",
        "    if l in range(0,12) :\n",
        "      first_thirds += 1\n",
        "    if l in range(13,25):\n",
        "      second_thirds += 1\n",
        "    if l in range (25,37):\n",
        "      third_thirds += 1\n",
        "    if l == 0 or l == \"00\":\n",
        "      special += 1\n",
        "\n",
        "  return first_thirds, second_thirds, third_thirds, special, (special/ x) - (1/37)\n",
        " \n",
        "#    return 1/37\n",
        "rouletteEur_thirds_Analysis(10000)\n"
      ],
      "execution_count": null,
      "outputs": [
        {
          "output_type": "execute_result",
          "data": {
            "text/plain": [
              "(3262, 3258, 3231, 266, -0.0004270270270270299)"
            ]
          },
          "metadata": {},
          "execution_count": 207
        }
      ]
    },
    {
      "cell_type": "code",
      "metadata": {
        "id": "V3OoZ6SuByNx"
      },
      "source": [
        ""
      ],
      "execution_count": null,
      "outputs": []
    },
    {
      "cell_type": "code",
      "metadata": {
        "id": "PFzboBhuBt0N"
      },
      "source": [
        ""
      ],
      "execution_count": null,
      "outputs": []
    },
    {
      "cell_type": "code",
      "metadata": {
        "id": "tjHLQKLM_cWM"
      },
      "source": [
        ""
      ],
      "execution_count": null,
      "outputs": []
    },
    {
      "cell_type": "code",
      "metadata": {
        "id": "SpnNiFhK_cO5"
      },
      "source": [
        ""
      ],
      "execution_count": null,
      "outputs": []
    },
    {
      "cell_type": "code",
      "metadata": {
        "id": "PQg3kuo8_cLL"
      },
      "source": [
        ""
      ],
      "execution_count": null,
      "outputs": []
    },
    {
      "cell_type": "code",
      "metadata": {
        "id": "QjaBWlJi_bvr"
      },
      "source": [
        ""
      ],
      "execution_count": null,
      "outputs": []
    },
    {
      "cell_type": "code",
      "metadata": {
        "id": "ChqLLtCg37WS"
      },
      "source": [
        ""
      ],
      "execution_count": null,
      "outputs": []
    }
  ]
}