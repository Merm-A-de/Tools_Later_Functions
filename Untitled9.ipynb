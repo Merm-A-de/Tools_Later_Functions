{
  "nbformat": 4,
  "nbformat_minor": 0,
  "metadata": {
    "colab": {
      "name": "Untitled9.ipynb",
      "provenance": [],
      "authorship_tag": "ABX9TyPfqQqqYzh9pH6oeztuPJSk",
      "include_colab_link": true
    },
    "kernelspec": {
      "name": "python3",
      "display_name": "Python 3"
    },
    "language_info": {
      "name": "python"
    }
  },
  "cells": [
    {
      "cell_type": "markdown",
      "metadata": {
        "id": "view-in-github",
        "colab_type": "text"
      },
      "source": [
        "<a href=\"https://colab.research.google.com/github/Merm-A-de/Tools_Later_Functions/blob/main/Untitled9.ipynb\" target=\"_parent\"><img src=\"https://colab.research.google.com/assets/colab-badge.svg\" alt=\"Open In Colab\"/></a>"
      ]
    },
    {
      "cell_type": "code",
      "execution_count": 8,
      "metadata": {
        "colab": {
          "base_uri": "https://localhost:8080/",
          "height": 36
        },
        "id": "jNSqZIei4-VL",
        "outputId": "231016db-54d2-42b0-928e-cd40ebc51f1a"
      },
      "outputs": [
        {
          "output_type": "execute_result",
          "data": {
            "application/vnd.google.colaboratory.intrinsic+json": {
              "type": "string"
            },
            "text/plain": [
              "'[The, tho, unless]'"
            ]
          },
          "metadata": {},
          "execution_count": 8
        }
      ],
      "source": [
        "# Function - Tool for Later\n",
        "# Removing all quotes from list\n",
        "\n",
        "# Angelo Mermigis \n",
        "# 12 . 22 . 2021\n",
        "\n",
        "def remove_Quotes_From_List(with_Quotes_List):\n",
        "  no_Quote_List = ('[%s]' % ', '.join(map(str, with_Quotes_List)))\n",
        "\n",
        "  return no_Quote_List\n",
        "\n",
        "\n",
        "remove_Quotes_From_List([\"The\",\"tho\",\"unless\"])\n"
      ]
    }
  ]
}