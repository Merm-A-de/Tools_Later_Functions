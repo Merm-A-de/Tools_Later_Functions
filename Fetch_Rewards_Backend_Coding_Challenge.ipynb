{
  "nbformat": 4,
  "nbformat_minor": 0,
  "metadata": {
    "colab": {
      "name": "Fetch Rewards Backend Coding Challenge ",
      "provenance": [],
      "authorship_tag": "ABX9TyN6mLjwgZeYVtkgXapMeSjH",
      "include_colab_link": true
    },
    "kernelspec": {
      "name": "python3",
      "display_name": "Python 3"
    },
    "language_info": {
      "name": "python"
    }
  },
  "cells": [
    {
      "cell_type": "markdown",
      "metadata": {
        "id": "view-in-github",
        "colab_type": "text"
      },
      "source": [
        "<a href=\"https://colab.research.google.com/github/Merm-A-de/Tools_Later_Functions/blob/main/Fetch_Rewards_Backend_Coding_Challenge.ipynb\" target=\"_parent\"><img src=\"https://colab.research.google.com/assets/colab-badge.svg\" alt=\"Open In Colab\"/></a>"
      ]
    },
    {
      "cell_type": "code",
      "metadata": {
        "id": "w4Q2AvCd3trG"
      },
      "source": [
        "Coding Backend Challenge - Fetch Rewards"
      ],
      "execution_count": null,
      "outputs": []
    },
    {
      "cell_type": "code",
      "metadata": {
        "id": "behkViw64Teh"
      },
      "source": [
        ""
      ],
      "execution_count": null,
      "outputs": []
    },
    {
      "cell_type": "code",
      "metadata": {
        "colab": {
          "base_uri": "https://localhost:8080/"
        },
        "id": "q7GWeFW94TjL",
        "outputId": "b651fc95-98fa-4f2b-b1dc-a158799b4a9a"
      },
      "source": [
        "\n",
        "\n",
        "\n",
        "\n",
        "def transaction(payer, points):\n",
        "\n",
        "  companies = (\"Danon\", \"HP\")\n",
        "  balances = [0, 0]\n",
        "\n",
        "#print(companies[1],':',balances[1])\n",
        "\n",
        "#  for x in companies:\n",
        " #     print(x)\n",
        "\n",
        "  if str(payer) in companies:\n",
        "    try:\n",
        "     a = companies.index(payer)\n",
        "    except Exception as find:\n",
        "      print(\"Error -> \\n\", find)\n",
        "    balances[a] += points\n",
        "    print(\"Resulting Balance:\\n>\", companies[a],\":\",balances[a])\n",
        "    pass\n",
        "  elif payer not in slist:\n",
        "    try:\n",
        "      companies.append(str(payer))\n",
        "    except Exception as comp_No_Append:\n",
        "      print(\"Error -> \\n\",comp_No_Append)\n",
        "    #payer -= points\n",
        "    print(companies,balances)\n",
        "\n",
        "\n",
        "\n",
        "\n",
        "\n",
        "transaction(\"Danon\", 200)\n",
        "transaction(\"HP\",40)\n",
        "transaction(\"Danon\", 2000)\n",
        "\n"
      ],
      "execution_count": null,
      "outputs": [
        {
          "output_type": "stream",
          "name": "stdout",
          "text": [
            "Resulting Balance:\n",
            "> Danon : 200\n",
            "Resulting Balance:\n",
            "> HP : 40\n",
            "Resulting Balance:\n",
            "> Danon : 2000\n"
          ]
        }
      ]
    },
    {
      "cell_type": "code",
      "metadata": {
        "colab": {
          "base_uri": "https://localhost:8080/"
        },
        "id": "Z7VHgb0Y5K-h",
        "outputId": "10b18dbe-1413-47d4-f133-0c22f0739ce7"
      },
      "source": [
        "import numpy as np\n",
        "\n",
        "\n",
        "co_2 = np.zeros(1000)\n",
        "\n",
        "#def new_Line(x):\n",
        " # print(\"\\n\" * x)\n",
        "\n",
        "\n",
        "global balances\n",
        "balances = np.zeros(1000)  \n",
        "global companies\n",
        "companies = [\"Danon\", \"HP\",]\n",
        "\n",
        "\n",
        "def transaction(payer,points):\n",
        "  global balances\n",
        "  global companies\n",
        "#  def check \n",
        "\n",
        "#print(companies[1],':',balances[1])\n",
        "\n",
        "#  for x in companies:\n",
        " #     print(x)\n",
        "\n",
        "  #payer_Term = \"\\'payer\\'\"\n",
        "  #def check_Payer():\n",
        "\n",
        "  negative_Balance_Message = \"Not enough points\"\n",
        "\n",
        "  if str(payer) in companies:\n",
        "    try:\n",
        "      a = companies.index(payer)\n",
        "    except Exception as find:\n",
        "      print(\"Error -> \\n\", find)\n",
        "    balances[a] += points\n",
        "    if balances[a] < 0:\n",
        "      balances[a] -= points\n",
        "      print(\"Sorry cannot complete transaction: %r\" %negative_Balance_Message)\n",
        "      print(\"Current Points Balance:\", (balances[a]), \"\\n\\n\")\n",
        "    elif balances[a] > 0: \n",
        "      print(\"Resulting Balance:\\n>\", companies[a], \":\",balances[a],\"\\n\\n\")    \n",
        "  elif str(payer) not in companies:\n",
        "    try:\n",
        "      companies += (payer,)\n",
        "      b = companies.index(payer)\n",
        "      balances[b] += points\n",
        "      if balances[b] < 0:\n",
        "        balances[b] -= points\n",
        "        print(\"Sorry cannot complete transaction: %r\" %negative_Balance_Message)\n",
        "        print(\"Current Points Balance:\", balances[b], \"\\n\\n\")\n",
        "\n",
        "      elif balances[b] > 0:\n",
        "        print(\"Resulting Balance:\\n>\", companies[b], \":\",balances[b],\"\\n\\n\")   \n",
        "      \n",
        "    except Exception as comp_No_Append:\n",
        "      print(\"Error -> \\n\",comp_No_Append)\n",
        "    #payer -= points\n",
        "    #print(companies,balances)\n",
        "      \n",
        "  #check_Payer()\n",
        "    \n",
        "\n",
        "transaction(\"Lower\", 3)\n",
        "transaction(\"Lower\", -10)\n",
        "transaction(\"Danon\", 200)\n",
        "transaction(\"HP\",40)\n",
        "transaction(\"Danon\", 2000)\n",
        "transaction(\"HP\", 110)\n",
        "transaction(\"GM\", 400)\n",
        "transaction(\"GM\", 300)\n",
        "transaction(\"Johns Lab\", 5000)\n",
        "transaction(\"GM\", 300)\n",
        "transaction(\"Lab\", -50)\n",
        "#transaction(\"ANDYS\", 300)\n",
        "#transaction(\"\")\n",
        "\n",
        "\n",
        "\n",
        "def get_Balances():\n",
        "  for x in companies:\n",
        "    y = companies.index(x)\n",
        "    print(x,\":\",balances[y])\n",
        "\n",
        "\n",
        "get_Balances()"
      ],
      "execution_count": 22,
      "outputs": [
        {
          "output_type": "stream",
          "name": "stdout",
          "text": [
            "Resulting Balance:\n",
            "> Lower : 3.0 \n",
            "\n",
            "\n",
            "Sorry cannot complete transaction: 'Not enough points'\n",
            "Current Points Balance: 3.0 \n",
            "\n",
            "\n",
            "Resulting Balance:\n",
            "> Danon : 200.0 \n",
            "\n",
            "\n",
            "Resulting Balance:\n",
            "> HP : 40.0 \n",
            "\n",
            "\n",
            "Resulting Balance:\n",
            "> Danon : 2200.0 \n",
            "\n",
            "\n",
            "Resulting Balance:\n",
            "> HP : 150.0 \n",
            "\n",
            "\n",
            "Resulting Balance:\n",
            "> GM : 400.0 \n",
            "\n",
            "\n",
            "Resulting Balance:\n",
            "> GM : 700.0 \n",
            "\n",
            "\n",
            "Resulting Balance:\n",
            "> Johns Lab : 5000.0 \n",
            "\n",
            "\n",
            "Resulting Balance:\n",
            "> GM : 1000.0 \n",
            "\n",
            "\n",
            "Sorry cannot complete transaction: 'Not enough points'\n",
            "Current Points Balance: 0.0 \n",
            "\n",
            "\n",
            "Danon : 2200.0\n",
            "HP : 150.0\n",
            "Lower : 3.0\n",
            "GM : 1000.0\n",
            "Johns Lab : 5000.0\n",
            "Lab : 0.0\n"
          ]
        }
      ]
    },
    {
      "cell_type": "code",
      "metadata": {
        "id": "ojO82B435LCN"
      },
      "source": [
        "\"\\m\""
      ],
      "execution_count": null,
      "outputs": []
    },
    {
      "cell_type": "code",
      "metadata": {
        "colab": {
          "base_uri": "https://localhost:8080/",
          "height": 206
        },
        "id": "u6kn47kf5LFv",
        "outputId": "38404095-010c-4462-ae13-500bdc474ede"
      },
      "source": [
        "#Getting Timestamp\n",
        "\n",
        "import time\n",
        "\n",
        "import datetime\n",
        "\n",
        "import timeit\n",
        "\n",
        "#import \n",
        "\n",
        "\n",
        "day = datetime.date.today()\n",
        "\n",
        "day_formed = time.strftime('%Y-%m-%dT%H:%M:%SZ', time.localtime())\n",
        "\n",
        "x = time.strftime('%Y-%m-%dT%H:%M:%SZ', time.localtime())\n",
        "\n",
        "print(day_formed)\n",
        "\n",
        "\n"
      ],
      "execution_count": 26,
      "outputs": [
        {
          "output_type": "stream",
          "name": "stdout",
          "text": [
            "2021-09-03T23:29:47Z\n"
          ]
        },
        {
          "output_type": "error",
          "ename": "AttributeError",
          "evalue": "ignored",
          "traceback": [
            "\u001b[0;31m---------------------------------------------------------------------------\u001b[0m",
            "\u001b[0;31mAttributeError\u001b[0m                            Traceback (most recent call last)",
            "\u001b[0;32m<ipython-input-26-178ce21093ef>\u001b[0m in \u001b[0;36m<module>\u001b[0;34m()\u001b[0m\n\u001b[1;32m     18\u001b[0m \u001b[0mprint\u001b[0m\u001b[0;34m(\u001b[0m\u001b[0mday_formed\u001b[0m\u001b[0;34m)\u001b[0m\u001b[0;34m\u001b[0m\u001b[0;34m\u001b[0m\u001b[0m\n\u001b[1;32m     19\u001b[0m \u001b[0;34m\u001b[0m\u001b[0m\n\u001b[0;32m---> 20\u001b[0;31m \u001b[0mtime\u001b[0m\u001b[0;34m.\u001b[0m\u001b[0mnow\u001b[0m\u001b[0;34m(\u001b[0m\u001b[0;34m)\u001b[0m\u001b[0;34m\u001b[0m\u001b[0;34m\u001b[0m\u001b[0m\n\u001b[0m",
            "\u001b[0;31mAttributeError\u001b[0m: module 'time' has no attribute 'now'"
          ]
        }
      ]
    },
    {
      "cell_type": "code",
      "metadata": {
        "id": "8RD1CJLR5LJS"
      },
      "source": [
        ""
      ],
      "execution_count": null,
      "outputs": []
    },
    {
      "cell_type": "code",
      "metadata": {
        "id": "uPqMh_eU5LMr"
      },
      "source": [
        "from flask import Flask \n",
        "\n",
        "app = Flask(__name__)\n",
        "\n",
        "@app.route(\"/\")\n",
        "def index():\n",
        "  print(\"nice\")"
      ],
      "execution_count": null,
      "outputs": []
    },
    {
      "cell_type": "code",
      "metadata": {
        "id": "o4P2H81B5LTM"
      },
      "source": [
        "from "
      ],
      "execution_count": null,
      "outputs": []
    },
    {
      "cell_type": "code",
      "metadata": {
        "id": "w6zKGIom5LWP"
      },
      "source": [
        ""
      ],
      "execution_count": null,
      "outputs": []
    },
    {
      "cell_type": "code",
      "metadata": {
        "id": "LQ2FGLHY5LZq"
      },
      "source": [
        ""
      ],
      "execution_count": null,
      "outputs": []
    }
  ]
}