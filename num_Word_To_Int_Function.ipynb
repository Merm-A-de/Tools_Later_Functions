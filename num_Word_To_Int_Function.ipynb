{
  "nbformat": 4,
  "nbformat_minor": 0,
  "metadata": {
    "colab": {
      "name": "num_Word_To_Int_Function.ipynb",
      "provenance": [],
      "collapsed_sections": [],
      "authorship_tag": "ABX9TyNdLP/7Oon4/e1GZq1/Bu/5",
      "include_colab_link": true
    },
    "kernelspec": {
      "name": "python3",
      "display_name": "Python 3"
    },
    "language_info": {
      "name": "python"
    }
  },
  "cells": [
    {
      "cell_type": "markdown",
      "metadata": {
        "id": "view-in-github",
        "colab_type": "text"
      },
      "source": [
        "<a href=\"https://colab.research.google.com/github/Merm-A-de/Tools_Later_Functions/blob/main/num_Word_To_Int_Function.ipynb\" target=\"_parent\"><img src=\"https://colab.research.google.com/assets/colab-badge.svg\" alt=\"Open In Colab\"/></a>"
      ]
    },
    {
      "cell_type": "code",
      "metadata": {
        "colab": {
          "base_uri": "https://localhost:8080/"
        },
        "id": "DVVr4bXVZUlb",
        "outputId": "86e94815-d16b-4a59-9d0c-d12cc3af73a8"
      },
      "source": [
        "# Python Function that takes word form of number and returns number format and number format for +- x\n",
        "\n",
        "def num_Word_To_Int(word, neg, pos):\n",
        "  list = []\n",
        "  seco = []\n",
        "  answer = []\n",
        "  new = []\n",
        "  ranger = range(0,100)\n",
        "  # make version that can output negative and positive numbers \n",
        "\n",
        "  for i in ranger:\n",
        "    list.append(i)\n",
        "\n",
        "\n",
        "  zero = ['zero']\n",
        "  suffixes = ['one', 'two', 'three', 'four', 'five', 'six', 'seven', 'eight', 'nine']\n",
        "  teens = ['eleven', 'twelve', 'thirteen', 'fourteen', 'fifteen', 'sixteen', 'seventeen', 'eighteen', 'nineteen']\n",
        "  prefixes = ['twenty', 'thirty', 'fourty', 'fifty', 'sixty', 'seventy', 'eighty', 'ninety']\n",
        "  hyphenn = '-'\n",
        "  twenties = ['twenty']\n",
        "  thirties = ['thirty']\n",
        "  fourties = ['fourty']\n",
        "  fifties = ['fifty']\n",
        "  sixties = ['sixty']\n",
        "  seventies = ['seventy']\n",
        "  eighties = ['eighty']\n",
        "  nineties = ['ninety']\n",
        "\n",
        "  #for z in range(0,len(prefixes)):\n",
        "  for y in suffixes:\n",
        "    twenties.append(prefixes[0]+hyphenn+y)\n",
        "      \n",
        "  #for z in range(len(prefixes)):\n",
        "  for y in suffixes:\n",
        "    thirties.append(prefixes[1]+hyphenn+y)\n",
        "      \n",
        "  #for z in range(len(prefixes)): # how to use a variable for the index from the prefix list\n",
        "  for y in suffixes:\n",
        "    fourties.append(prefixes[2]+hyphenn+y)\n",
        "  \n",
        "#  for z in range(len(prefixes)):\n",
        "  for y in suffixes:\n",
        "    fifties.append(prefixes[3]+hyphenn+y)\n",
        "\n",
        " # for z in range(len(prefixes)):\n",
        "  for y in suffixes:\n",
        "    sixties.append(prefixes[4]+hyphenn+y)\n",
        "  \n",
        " # for z in range(len(prefixes)):\n",
        "  for y in suffixes:\n",
        "      seventies.append(prefixes[5]+hyphenn+y)\n",
        "    \n",
        " # for z in range(len(prefixes)):\n",
        "  for y in suffixes:\n",
        "    eighties.append(prefixes[6]+hyphenn+y)\n",
        "  \n",
        " # for z in range(len(prefixes)):\n",
        "  for y in suffixes:\n",
        "    nineties.append(prefixes[7]+hyphenn+y)\n",
        "      \n",
        "\n",
        "#  new.append(twenties, thirties, fourties, fifties, sixties, seventies, eighties, nineties)\n",
        "\n",
        "  nookych = zero + suffixes + teens + twenties + thirties + fourties + fifties + sixties + seventies + eighties + nineties \n",
        "\n",
        "  for r in nookych:\n",
        "    seco.append(r)\n",
        "\n",
        "  dex = seco.index(word)\n",
        "  \n",
        "\n",
        "  for i in ranger:\n",
        "    list.append(i)\n",
        "  l = list[(dex-neg):((dex+2)+pos)]\n",
        "\n",
        "\n",
        "  if  dex - neg < 0:\n",
        "    answer.append(list[0 : (dex+2)+pos])\n",
        "  else:\n",
        "    answer.append(list[((dex+1)-neg):((dex+2)+pos)])\n",
        "\n",
        "\n",
        "  return answer\n",
        "\n",
        "\n",
        "num_Word_To_Int('fifty', 6, 7)\n",
        "\n",
        "# to get the numbers theres a very easy formula #but nice practice problem\n",
        "\n",
        "#for i in range(44,58):\n",
        "#  print(i)"
      ],
      "execution_count": 1,
      "outputs": [
        {
          "output_type": "execute_result",
          "data": {
            "text/plain": [
              "[[44, 45, 46, 47, 48, 49, 50, 51, 52, 53, 54, 55, 56, 57]]"
            ]
          },
          "metadata": {},
          "execution_count": 1
        }
      ]
    },
    {
      "cell_type": "code",
      "metadata": {
        "id": "yFls8svqZZCs"
      },
      "source": [
        ""
      ],
      "execution_count": null,
      "outputs": []
    }
  ]
}