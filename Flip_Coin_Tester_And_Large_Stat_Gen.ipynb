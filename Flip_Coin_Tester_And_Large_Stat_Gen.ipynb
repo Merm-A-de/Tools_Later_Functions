{
  "nbformat": 4,
  "nbformat_minor": 0,
  "metadata": {
    "colab": {
      "name": "Flip_Coin_Tester_And_Large_Stat_Gen.ipynb",
      "provenance": [],
      "collapsed_sections": [],
      "authorship_tag": "ABX9TyP7S5pTT0vKkPrjzPSbtBuV",
      "include_colab_link": true
    },
    "kernelspec": {
      "name": "python3",
      "display_name": "Python 3"
    },
    "language_info": {
      "name": "python"
    }
  },
  "cells": [
    {
      "cell_type": "markdown",
      "metadata": {
        "id": "view-in-github",
        "colab_type": "text"
      },
      "source": [
        "<a href=\"https://colab.research.google.com/github/Merm-A-de/Tools_Later_Functions/blob/main/Flip_Coin_Tester_And_Large_Stat_Gen.ipynb\" target=\"_parent\"><img src=\"https://colab.research.google.com/assets/colab-badge.svg\" alt=\"Open In Colab\"/></a>"
      ]
    },
    {
      "cell_type": "code",
      "metadata": {
        "colab": {
          "base_uri": "https://localhost:8080/"
        },
        "id": "zpbGXK4NQUYL",
        "outputId": "4d885e70-3948-41b2-c0df-adfa326070b5"
      },
      "source": [
        "#Angelo Mermigis\n",
        "# 10 01 21\n",
        "\n",
        "import random\n",
        "\n",
        "\n",
        "# flip coin 1000 times\n",
        "\n",
        "def flip_Coin(x):\n",
        "  heads = 0 #  0 in the sim\n",
        "  tails = 0 # 1 in the sim\n",
        "  list = []\n",
        "  for i in range(x):\n",
        "    list.append(random.randrange(0,2))\n",
        "  for z in list:\n",
        "    if z == 0:\n",
        "      heads += 1\n",
        "    if z == 1:\n",
        "      tails += 1\n",
        "\n",
        "  return heads, tails\n",
        "  \n",
        "flip_Coin(1000)"
      ],
      "execution_count": null,
      "outputs": [
        {
          "output_type": "execute_result",
          "data": {
            "text/plain": [
              "(508, 492)"
            ]
          },
          "metadata": {},
          "execution_count": 2
        }
      ]
    },
    {
      "cell_type": "code",
      "metadata": {
        "colab": {
          "base_uri": "https://localhost:8080/"
        },
        "id": "eTCIz2lMRHGv",
        "outputId": "67d3410a-317e-4477-8eed-537a84b6f28d"
      },
      "source": [
        "def many_Flips(x):\n",
        "  list = []\n",
        "  fifty_five_Percent_of_ThousandFlips = 0 \n",
        "\n",
        "  for i in range(x):\n",
        "    list.append(flip_Coin(1000))\n",
        "  for y, z in list:\n",
        "    if y > 550 :\n",
        "      fifty_five_Percent_of_ThousandFlips += 1 \n",
        "    if z > 550:\n",
        "      fifty_five_Percent_of_ThousandFlips += 1   \n",
        "\n",
        "#  print(\"55+%:   &   55%+ / tests: \")   \n",
        "#\n",
        "  return fifty_five_Percent_of_ThousandFlips, (fifty_five_Percent_of_ThousandFlips/x)\n",
        "\n",
        "\n",
        "# testing 100 examples of the 1000 flips to see how often 55%+ for one outcome\n",
        "# 100,000 coin flip sims\n",
        "\n",
        "many_Flips(100)\n"
      ],
      "execution_count": null,
      "outputs": [
        {
          "output_type": "execute_result",
          "data": {
            "text/plain": [
              "(1, 0.01)"
            ]
          },
          "metadata": {},
          "execution_count": 7
        }
      ]
    },
    {
      "cell_type": "code",
      "metadata": {
        "id": "ENiDPb64XqiS"
      },
      "source": [
        ""
      ],
      "execution_count": null,
      "outputs": []
    },
    {
      "cell_type": "code",
      "metadata": {
        "colab": {
          "base_uri": "https://localhost:8080/"
        },
        "id": "17nZ9xy_RLD3",
        "outputId": "4637f250-c910-4b34-99c5-b8d9d9ce5576"
      },
      "source": [
        "def many_by_more (x):\n",
        "  list = []\n",
        "  zero = 0\n",
        "  one_hundredth = 0\n",
        "  two_hundredth = 0 \n",
        "  more_than_two_hundredth = 0 \n",
        "\n",
        "  for i in range (x):\n",
        "    list.append(many_Flips(100))\n",
        "  for x, y in list:\n",
        "    if y == 0:\n",
        "      zero += 1\n",
        "    if y == .01:\n",
        "      one_hundredth += 1\n",
        "    if y == .02:\n",
        "      two_hundredth += 1\n",
        "    if y > .02:\n",
        "      more_than_two_hundredth += 1\n",
        "\n",
        "  return zero, one_hundredth, two_hundredth, more_than_two_hundredth\n",
        "\n",
        "#Testing the 100 tests 100 times \n",
        "\n",
        "# 100,000,000 simmed coin flips\n",
        "\n",
        "# now 1 Bil coin flip sims\n",
        "\n",
        "# Out of the 1000, how many within the hundred were 55%+\n",
        "\n",
        "# if 0 per 100 checks of the 1000 flips feeds into first val\n",
        "# etc\n",
        "\n",
        "many_by_more(500)\n"
      ],
      "execution_count": null,
      "outputs": [
        {
          "output_type": "execute_result",
          "data": {
            "text/plain": [
              "(430, 66, 4, 0)"
            ]
          },
          "metadata": {},
          "execution_count": 11
        }
      ]
    },
    {
      "cell_type": "code",
      "metadata": {
        "id": "sb8mIk8_bJFs"
      },
      "source": [
        ""
      ],
      "execution_count": null,
      "outputs": []
    },
    {
      "cell_type": "code",
      "metadata": {
        "id": "ibVjZuXRRLTc"
      },
      "source": [
        ""
      ],
      "execution_count": null,
      "outputs": []
    },
    {
      "cell_type": "code",
      "metadata": {
        "id": "7rtMa8mtRLWH"
      },
      "source": [
        ""
      ],
      "execution_count": null,
      "outputs": []
    },
    {
      "cell_type": "code",
      "metadata": {
        "id": "1SWGhEaaqyKg"
      },
      "source": [
        ""
      ],
      "execution_count": null,
      "outputs": []
    },
    {
      "cell_type": "code",
      "metadata": {
        "id": "VsFqNYQXqyN_"
      },
      "source": [
        ""
      ],
      "execution_count": null,
      "outputs": []
    },
    {
      "cell_type": "code",
      "metadata": {
        "id": "VmUL5MQtqyRK"
      },
      "source": [
        ""
      ],
      "execution_count": null,
      "outputs": []
    },
    {
      "cell_type": "code",
      "metadata": {
        "id": "KfjHww6PqyT4"
      },
      "source": [
        ""
      ],
      "execution_count": null,
      "outputs": []
    },
    {
      "cell_type": "code",
      "metadata": {
        "id": "15MrnsolqyWt"
      },
      "source": [
        ""
      ],
      "execution_count": null,
      "outputs": []
    },
    {
      "cell_type": "code",
      "metadata": {
        "id": "Z67ArKRZqyZY"
      },
      "source": [
        ""
      ],
      "execution_count": null,
      "outputs": []
    },
    {
      "cell_type": "code",
      "metadata": {
        "id": "tkpBTQRLqycP"
      },
      "source": [
        ""
      ],
      "execution_count": null,
      "outputs": []
    },
    {
      "cell_type": "code",
      "metadata": {
        "id": "t5plOGICqye_"
      },
      "source": [
        ""
      ],
      "execution_count": null,
      "outputs": []
    },
    {
      "cell_type": "code",
      "metadata": {
        "id": "nnOQwbpuqyiM"
      },
      "source": [
        ""
      ],
      "execution_count": null,
      "outputs": []
    },
    {
      "cell_type": "code",
      "metadata": {
        "id": "FH7dYPQJqykc"
      },
      "source": [
        ""
      ],
      "execution_count": null,
      "outputs": []
    },
    {
      "cell_type": "code",
      "metadata": {
        "id": "38dtd-R6qynu"
      },
      "source": [
        ""
      ],
      "execution_count": null,
      "outputs": []
    },
    {
      "cell_type": "code",
      "metadata": {
        "id": "90kKYT7uqyqa"
      },
      "source": [
        ""
      ],
      "execution_count": null,
      "outputs": []
    },
    {
      "cell_type": "code",
      "metadata": {
        "id": "hxbqIGt_qytc"
      },
      "source": [
        ""
      ],
      "execution_count": null,
      "outputs": []
    },
    {
      "cell_type": "code",
      "metadata": {
        "id": "lU51kVuPqywV"
      },
      "source": [
        ""
      ],
      "execution_count": null,
      "outputs": []
    },
    {
      "cell_type": "code",
      "metadata": {
        "id": "7bK8oVRXqyzs"
      },
      "source": [
        ""
      ],
      "execution_count": null,
      "outputs": []
    },
    {
      "cell_type": "code",
      "metadata": {
        "id": "gc3x8DTAqy2Y"
      },
      "source": [
        ""
      ],
      "execution_count": null,
      "outputs": []
    },
    {
      "cell_type": "code",
      "metadata": {
        "id": "4QIHHhswqy5a"
      },
      "source": [
        ""
      ],
      "execution_count": null,
      "outputs": []
    },
    {
      "cell_type": "code",
      "metadata": {
        "id": "lr9RQ_c9qy8b"
      },
      "source": [
        ""
      ],
      "execution_count": null,
      "outputs": []
    },
    {
      "cell_type": "code",
      "metadata": {
        "id": "h_bpu2MKqy_T"
      },
      "source": [
        ""
      ],
      "execution_count": null,
      "outputs": []
    },
    {
      "cell_type": "code",
      "metadata": {
        "id": "-dZbuTaAqzCq"
      },
      "source": [
        ""
      ],
      "execution_count": null,
      "outputs": []
    },
    {
      "cell_type": "code",
      "metadata": {
        "id": "aFXrNH_tqzFT"
      },
      "source": [
        ""
      ],
      "execution_count": null,
      "outputs": []
    },
    {
      "cell_type": "code",
      "metadata": {
        "id": "mSvrUZ8UqzIO"
      },
      "source": [
        ""
      ],
      "execution_count": null,
      "outputs": []
    },
    {
      "cell_type": "code",
      "metadata": {
        "id": "oQI7LTj4qxdf"
      },
      "source": [
        ""
      ],
      "execution_count": null,
      "outputs": []
    }
  ]
}