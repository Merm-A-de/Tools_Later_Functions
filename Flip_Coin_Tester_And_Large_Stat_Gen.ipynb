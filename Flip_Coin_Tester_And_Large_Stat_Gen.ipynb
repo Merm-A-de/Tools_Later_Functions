{
  "nbformat": 4,
  "nbformat_minor": 0,
  "metadata": {
    "colab": {
      "name": "Flip_Coin_Tester_And_Large_Stat_Gen.ipynb",
      "provenance": [],
      "collapsed_sections": [],
      "authorship_tag": "ABX9TyOTp5feOY1Dvrl1oRkRG6V/",
      "include_colab_link": true
    },
    "kernelspec": {
      "name": "python3",
      "display_name": "Python 3"
    },
    "language_info": {
      "name": "python"
    }
  },
  "cells": [
    {
      "cell_type": "markdown",
      "metadata": {
        "id": "view-in-github",
        "colab_type": "text"
      },
      "source": [
        "<a href=\"https://colab.research.google.com/github/Merm-A-de/Tools_Later_Functions/blob/main/Flip_Coin_Tester_And_Large_Stat_Gen.ipynb\" target=\"_parent\"><img src=\"https://colab.research.google.com/assets/colab-badge.svg\" alt=\"Open In Colab\"/></a>"
      ]
    },
    {
      "cell_type": "code",
      "metadata": {
        "colab": {
          "base_uri": "https://localhost:8080/"
        },
        "id": "zpbGXK4NQUYL",
        "outputId": "990548a1-2b71-404e-cd5e-737da8d48303"
      },
      "source": [
        "#Angelo Mermigis\n",
        "# 10 01 21\n",
        "\n",
        "import random\n",
        "\n",
        "\n",
        "\n",
        "\n",
        "def flip_Coin(x):\n",
        "  heads = 0 #  0 in the sim\n",
        "  tails = 0 # 1 in the sim\n",
        "  list = []\n",
        "  for i in range(x):\n",
        "    list.append(random.randrange(0,2))\n",
        "  for z in list:\n",
        "    if z == 0:\n",
        "      heads += 1\n",
        "    if z == 1:\n",
        "      tails += 1\n",
        "\n",
        "  return heads, tails\n",
        "  \n",
        "flip_Coin(1000)"
      ],
      "execution_count": 77,
      "outputs": [
        {
          "output_type": "execute_result",
          "data": {
            "text/plain": [
              "(495, 505)"
            ]
          },
          "metadata": {},
          "execution_count": 77
        }
      ]
    },
    {
      "cell_type": "code",
      "metadata": {
        "colab": {
          "base_uri": "https://localhost:8080/"
        },
        "id": "eTCIz2lMRHGv",
        "outputId": "03e9cdec-4009-46f1-83ea-e33bf190d304"
      },
      "source": [
        "def many_Flips(x):\n",
        "  list = []\n",
        "  fifty_five_Percent_of_ThousandFlips = 0 \n",
        "\n",
        "  for i in range(x):\n",
        "    list.append(flip_Coin(1000))\n",
        "  for y, z in list:\n",
        "    if y > 550 :\n",
        "      fifty_five_Percent_of_ThousandFlips += 1 \n",
        "    if z > 550:\n",
        "      fifty_five_Percent_of_ThousandFlips += 1   \n",
        "\n",
        "#  print(\"55+%:   &   55%+ / tests: \")   \n",
        "#\n",
        "  return fifty_five_Percent_of_ThousandFlips, (fifty_five_Percent_of_ThousandFlips/x)\n",
        "\n",
        "many_Flips(100)\n"
      ],
      "execution_count": 90,
      "outputs": [
        {
          "output_type": "execute_result",
          "data": {
            "text/plain": [
              "(0, 0.0)"
            ]
          },
          "metadata": {},
          "execution_count": 90
        }
      ]
    },
    {
      "cell_type": "code",
      "metadata": {
        "id": "ENiDPb64XqiS"
      },
      "source": [
        ""
      ],
      "execution_count": null,
      "outputs": []
    },
    {
      "cell_type": "code",
      "metadata": {
        "colab": {
          "base_uri": "https://localhost:8080/"
        },
        "id": "17nZ9xy_RLD3",
        "outputId": "e38e568e-d351-46ac-f97a-f87ccaa46c49"
      },
      "source": [
        "def many_by_more (x):\n",
        "  list = []\n",
        "  zero = 0\n",
        "  one_hundredth = 0\n",
        "  two_hundredth = 0 \n",
        "  more_than_two_hundredth = 0 \n",
        "\n",
        "  for i in range (x):\n",
        "    list.append(many_Flips(100))\n",
        "  for x, y in list:\n",
        "    if y == 0:\n",
        "      zero += 1\n",
        "    if y == .01:\n",
        "      one_hundredth += 1\n",
        "    if y == .02:\n",
        "      two_hundredth += 1\n",
        "    if y > .02:\n",
        "      more_than_two_hundredth += 1\n",
        "\n",
        "  return zero, one_hundredth, two_hundredth\n",
        "\n",
        "\n",
        "\n",
        "many_by_more(100)    "
      ],
      "execution_count": 92,
      "outputs": [
        {
          "output_type": "execute_result",
          "data": {
            "text/plain": [
              "(89, 11, 0)"
            ]
          },
          "metadata": {},
          "execution_count": 92
        }
      ]
    },
    {
      "cell_type": "code",
      "metadata": {
        "id": "ibVjZuXRRLTc"
      },
      "source": [
        ""
      ],
      "execution_count": null,
      "outputs": []
    },
    {
      "cell_type": "code",
      "metadata": {
        "id": "7rtMa8mtRLWH"
      },
      "source": [
        ""
      ],
      "execution_count": null,
      "outputs": []
    }
  ]
}